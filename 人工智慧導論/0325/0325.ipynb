{
  "nbformat": 4,
  "nbformat_minor": 0,
  "metadata": {
    "colab": {
      "provenance": [],
      "gpuType": "T4"
    },
    "kernelspec": {
      "name": "python3",
      "display_name": "Python 3"
    },
    "language_info": {
      "name": "python"
    },
    "accelerator": "GPU",
    "widgets": {
      "application/vnd.jupyter.widget-state+json": {
        "217288f64d45435c9446482d87abb929": {
          "model_module": "@jupyter-widgets/controls",
          "model_name": "VBoxModel",
          "model_module_version": "1.5.0",
          "state": {
            "_dom_classes": [
              "widget-interact"
            ],
            "_model_module": "@jupyter-widgets/controls",
            "_model_module_version": "1.5.0",
            "_model_name": "VBoxModel",
            "_view_count": null,
            "_view_module": "@jupyter-widgets/controls",
            "_view_module_version": "1.5.0",
            "_view_name": "VBoxView",
            "box_style": "",
            "children": [
              "IPY_MODEL_8253c9e1b7244a2588e6a857bba79c96",
              "IPY_MODEL_a2e57da6bff94470ad174e74d924a51b",
              "IPY_MODEL_851fc7e6827246938c97f18c4d289f19"
            ],
            "layout": "IPY_MODEL_d8241f0313f94ed38457d4f0beb2b7df"
          }
        },
        "8253c9e1b7244a2588e6a857bba79c96": {
          "model_module": "@jupyter-widgets/controls",
          "model_name": "IntSliderModel",
          "model_module_version": "1.5.0",
          "state": {
            "_dom_classes": [],
            "_model_module": "@jupyter-widgets/controls",
            "_model_module_version": "1.5.0",
            "_model_name": "IntSliderModel",
            "_view_count": null,
            "_view_module": "@jupyter-widgets/controls",
            "_view_module_version": "1.5.0",
            "_view_name": "IntSliderView",
            "continuous_update": true,
            "description": "idx",
            "description_tooltip": null,
            "disabled": false,
            "layout": "IPY_MODEL_de8ce707c7f84905b6f9551b3649c3db",
            "max": 9999,
            "min": 0,
            "orientation": "horizontal",
            "readout": true,
            "readout_format": "d",
            "step": 1,
            "style": "IPY_MODEL_de1ff088c9b64c76a97a2a588cd47895",
            "value": 4999
          }
        },
        "a2e57da6bff94470ad174e74d924a51b": {
          "model_module": "@jupyter-widgets/controls",
          "model_name": "ButtonModel",
          "model_module_version": "1.5.0",
          "state": {
            "_dom_classes": [],
            "_model_module": "@jupyter-widgets/controls",
            "_model_module_version": "1.5.0",
            "_model_name": "ButtonModel",
            "_view_count": null,
            "_view_module": "@jupyter-widgets/controls",
            "_view_module_version": "1.5.0",
            "_view_name": "ButtonView",
            "button_style": "",
            "description": "Run Interact",
            "disabled": false,
            "icon": "",
            "layout": "IPY_MODEL_a36df1c5f40f4054b91cd5c420e53464",
            "style": "IPY_MODEL_c3fdbedda49a45dab55b7060c8b66753",
            "tooltip": ""
          }
        },
        "851fc7e6827246938c97f18c4d289f19": {
          "model_module": "@jupyter-widgets/output",
          "model_name": "OutputModel",
          "model_module_version": "1.0.0",
          "state": {
            "_dom_classes": [],
            "_model_module": "@jupyter-widgets/output",
            "_model_module_version": "1.0.0",
            "_model_name": "OutputModel",
            "_view_count": null,
            "_view_module": "@jupyter-widgets/output",
            "_view_module_version": "1.0.0",
            "_view_name": "OutputView",
            "layout": "IPY_MODEL_d0ae5993a4004713aa7c9c3c1d093db1",
            "msg_id": "",
            "outputs": [
              {
                "output_type": "display_data",
                "data": {
                  "text/plain": "<Figure size 1200x1400 with 1 Axes>",
                  "image/png": "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\n"
                },
                "metadata": {}
              }
            ]
          }
        },
        "d8241f0313f94ed38457d4f0beb2b7df": {
          "model_module": "@jupyter-widgets/base",
          "model_name": "LayoutModel",
          "model_module_version": "1.2.0",
          "state": {
            "_model_module": "@jupyter-widgets/base",
            "_model_module_version": "1.2.0",
            "_model_name": "LayoutModel",
            "_view_count": null,
            "_view_module": "@jupyter-widgets/base",
            "_view_module_version": "1.2.0",
            "_view_name": "LayoutView",
            "align_content": null,
            "align_items": null,
            "align_self": null,
            "border": null,
            "bottom": null,
            "display": null,
            "flex": null,
            "flex_flow": null,
            "grid_area": null,
            "grid_auto_columns": null,
            "grid_auto_flow": null,
            "grid_auto_rows": null,
            "grid_column": null,
            "grid_gap": null,
            "grid_row": null,
            "grid_template_areas": null,
            "grid_template_columns": null,
            "grid_template_rows": null,
            "height": null,
            "justify_content": null,
            "justify_items": null,
            "left": null,
            "margin": null,
            "max_height": null,
            "max_width": null,
            "min_height": null,
            "min_width": null,
            "object_fit": null,
            "object_position": null,
            "order": null,
            "overflow": null,
            "overflow_x": null,
            "overflow_y": null,
            "padding": null,
            "right": null,
            "top": null,
            "visibility": null,
            "width": null
          }
        },
        "de8ce707c7f84905b6f9551b3649c3db": {
          "model_module": "@jupyter-widgets/base",
          "model_name": "LayoutModel",
          "model_module_version": "1.2.0",
          "state": {
            "_model_module": "@jupyter-widgets/base",
            "_model_module_version": "1.2.0",
            "_model_name": "LayoutModel",
            "_view_count": null,
            "_view_module": "@jupyter-widgets/base",
            "_view_module_version": "1.2.0",
            "_view_name": "LayoutView",
            "align_content": null,
            "align_items": null,
            "align_self": null,
            "border": null,
            "bottom": null,
            "display": null,
            "flex": null,
            "flex_flow": null,
            "grid_area": null,
            "grid_auto_columns": null,
            "grid_auto_flow": null,
            "grid_auto_rows": null,
            "grid_column": null,
            "grid_gap": null,
            "grid_row": null,
            "grid_template_areas": null,
            "grid_template_columns": null,
            "grid_template_rows": null,
            "height": null,
            "justify_content": null,
            "justify_items": null,
            "left": null,
            "margin": null,
            "max_height": null,
            "max_width": null,
            "min_height": null,
            "min_width": null,
            "object_fit": null,
            "object_position": null,
            "order": null,
            "overflow": null,
            "overflow_x": null,
            "overflow_y": null,
            "padding": null,
            "right": null,
            "top": null,
            "visibility": null,
            "width": null
          }
        },
        "de1ff088c9b64c76a97a2a588cd47895": {
          "model_module": "@jupyter-widgets/controls",
          "model_name": "SliderStyleModel",
          "model_module_version": "1.5.0",
          "state": {
            "_model_module": "@jupyter-widgets/controls",
            "_model_module_version": "1.5.0",
            "_model_name": "SliderStyleModel",
            "_view_count": null,
            "_view_module": "@jupyter-widgets/base",
            "_view_module_version": "1.2.0",
            "_view_name": "StyleView",
            "description_width": "",
            "handle_color": null
          }
        },
        "a36df1c5f40f4054b91cd5c420e53464": {
          "model_module": "@jupyter-widgets/base",
          "model_name": "LayoutModel",
          "model_module_version": "1.2.0",
          "state": {
            "_model_module": "@jupyter-widgets/base",
            "_model_module_version": "1.2.0",
            "_model_name": "LayoutModel",
            "_view_count": null,
            "_view_module": "@jupyter-widgets/base",
            "_view_module_version": "1.2.0",
            "_view_name": "LayoutView",
            "align_content": null,
            "align_items": null,
            "align_self": null,
            "border": null,
            "bottom": null,
            "display": null,
            "flex": null,
            "flex_flow": null,
            "grid_area": null,
            "grid_auto_columns": null,
            "grid_auto_flow": null,
            "grid_auto_rows": null,
            "grid_column": null,
            "grid_gap": null,
            "grid_row": null,
            "grid_template_areas": null,
            "grid_template_columns": null,
            "grid_template_rows": null,
            "height": null,
            "justify_content": null,
            "justify_items": null,
            "left": null,
            "margin": null,
            "max_height": null,
            "max_width": null,
            "min_height": null,
            "min_width": null,
            "object_fit": null,
            "object_position": null,
            "order": null,
            "overflow": null,
            "overflow_x": null,
            "overflow_y": null,
            "padding": null,
            "right": null,
            "top": null,
            "visibility": null,
            "width": null
          }
        },
        "c3fdbedda49a45dab55b7060c8b66753": {
          "model_module": "@jupyter-widgets/controls",
          "model_name": "ButtonStyleModel",
          "model_module_version": "1.5.0",
          "state": {
            "_model_module": "@jupyter-widgets/controls",
            "_model_module_version": "1.5.0",
            "_model_name": "ButtonStyleModel",
            "_view_count": null,
            "_view_module": "@jupyter-widgets/base",
            "_view_module_version": "1.2.0",
            "_view_name": "StyleView",
            "button_color": null,
            "font_weight": ""
          }
        },
        "d0ae5993a4004713aa7c9c3c1d093db1": {
          "model_module": "@jupyter-widgets/base",
          "model_name": "LayoutModel",
          "model_module_version": "1.2.0",
          "state": {
            "_model_module": "@jupyter-widgets/base",
            "_model_module_version": "1.2.0",
            "_model_name": "LayoutModel",
            "_view_count": null,
            "_view_module": "@jupyter-widgets/base",
            "_view_module_version": "1.2.0",
            "_view_name": "LayoutView",
            "align_content": null,
            "align_items": null,
            "align_self": null,
            "border": null,
            "bottom": null,
            "display": null,
            "flex": null,
            "flex_flow": null,
            "grid_area": null,
            "grid_auto_columns": null,
            "grid_auto_flow": null,
            "grid_auto_rows": null,
            "grid_column": null,
            "grid_gap": null,
            "grid_row": null,
            "grid_template_areas": null,
            "grid_template_columns": null,
            "grid_template_rows": null,
            "height": null,
            "justify_content": null,
            "justify_items": null,
            "left": null,
            "margin": null,
            "max_height": null,
            "max_width": null,
            "min_height": null,
            "min_width": null,
            "object_fit": null,
            "object_position": null,
            "order": null,
            "overflow": null,
            "overflow_x": null,
            "overflow_y": null,
            "padding": null,
            "right": null,
            "top": null,
            "visibility": null,
            "width": null
          }
        }
      }
    }
  },
  "cells": [
    {
      "cell_type": "code",
      "execution_count": 51,
      "metadata": {
        "id": "9yyc77Vz5C-N"
      },
      "outputs": [],
      "source": [
        "import numpy as np\n",
        "import pandas as pd\n",
        "from tensorflow.keras.datasets import mnist"
      ]
    },
    {
      "cell_type": "code",
      "source": [
        "from tensorflow.keras.models import Sequential\n",
        "from tensorflow.keras.layers import Dense, Dropout, Flatten, Conv2D, MaxPooling2D\n",
        "from tensorflow.keras.utils import to_categorical"
      ],
      "metadata": {
        "id": "B8mxwn4S_2DW"
      },
      "execution_count": 52,
      "outputs": []
    },
    {
      "cell_type": "code",
      "source": [
        "cnn_model = Sequential()\n",
        "cnn_model.add(Conv2D(16, kernel_size=(5, 5), padding=\"same\", input_shape=(28,28,1), activation=\"relu\"))\n",
        "cnn_model.add(MaxPooling2D(pool_size=(2, 2)))\n",
        "cnn_model.add(Conv2D(16, kernel_size=(5, 5), padding=\"same\", activation=\"relu\"))\n",
        "cnn_model.add(MaxPooling2D(pool_size=(2, 2)))\n",
        "\"\"\"cnn_model.add(Conv2D(16, kernel_size=(5, 5), padding=\"same\", activation=\"relu\"))\n",
        "cnn_model.add(MaxPooling2D(pool_size=(2, 2)))\n",
        "cnn_model.add(Conv2D(16, kernel_size=(5, 5), padding=\"same\", activation=\"relu\"))\n",
        "cnn_model.add(MaxPooling2D(pool_size=(2, 2)))\n",
        "cnn_model.add(Conv2D(16, kernel_size=(5, 5), padding=\"same\", activation=\"relu\"))\n",
        "cnn_model.add(MaxPooling2D(pool_size=(1, 1)))\"\"\"\n",
        "cnn_model.add(Flatten())\n",
        "cnn_model.add(Dense(128, activation=\"relu\"))\n",
        "cnn_model.add(Dense(10, activation=\"softmax\"))\n",
        "cnn_model.summary()"
      ],
      "metadata": {
        "colab": {
          "base_uri": "https://localhost:8080/",
          "height": 418
        },
        "id": "LtZc6yhkACGO",
        "outputId": "471278e4-5e04-44fc-ef73-e7404f87b24e"
      },
      "execution_count": 53,
      "outputs": [
        {
          "output_type": "stream",
          "name": "stderr",
          "text": [
            "/usr/local/lib/python3.11/dist-packages/keras/src/layers/convolutional/base_conv.py:107: UserWarning: Do not pass an `input_shape`/`input_dim` argument to a layer. When using Sequential models, prefer using an `Input(shape)` object as the first layer in the model instead.\n",
            "  super().__init__(activity_regularizer=activity_regularizer, **kwargs)\n"
          ]
        },
        {
          "output_type": "display_data",
          "data": {
            "text/plain": [
              "\u001b[1mModel: \"sequential_1\"\u001b[0m\n"
            ],
            "text/html": [
              "<pre style=\"white-space:pre;overflow-x:auto;line-height:normal;font-family:Menlo,'DejaVu Sans Mono',consolas,'Courier New',monospace\"><span style=\"font-weight: bold\">Model: \"sequential_1\"</span>\n",
              "</pre>\n"
            ]
          },
          "metadata": {}
        },
        {
          "output_type": "display_data",
          "data": {
            "text/plain": [
              "┏━━━━━━━━━━━━━━━━━━━━━━━━━━━━━━━━━━━━━━┳━━━━━━━━━━━━━━━━━━━━━━━━━━━━━┳━━━━━━━━━━━━━━━━━┓\n",
              "┃\u001b[1m \u001b[0m\u001b[1mLayer (type)                        \u001b[0m\u001b[1m \u001b[0m┃\u001b[1m \u001b[0m\u001b[1mOutput Shape               \u001b[0m\u001b[1m \u001b[0m┃\u001b[1m \u001b[0m\u001b[1m        Param #\u001b[0m\u001b[1m \u001b[0m┃\n",
              "┡━━━━━━━━━━━━━━━━━━━━━━━━━━━━━━━━━━━━━━╇━━━━━━━━━━━━━━━━━━━━━━━━━━━━━╇━━━━━━━━━━━━━━━━━┩\n",
              "│ conv2d_2 (\u001b[38;5;33mConv2D\u001b[0m)                    │ (\u001b[38;5;45mNone\u001b[0m, \u001b[38;5;34m28\u001b[0m, \u001b[38;5;34m28\u001b[0m, \u001b[38;5;34m16\u001b[0m)          │             \u001b[38;5;34m416\u001b[0m │\n",
              "├──────────────────────────────────────┼─────────────────────────────┼─────────────────┤\n",
              "│ max_pooling2d_2 (\u001b[38;5;33mMaxPooling2D\u001b[0m)       │ (\u001b[38;5;45mNone\u001b[0m, \u001b[38;5;34m14\u001b[0m, \u001b[38;5;34m14\u001b[0m, \u001b[38;5;34m16\u001b[0m)          │               \u001b[38;5;34m0\u001b[0m │\n",
              "├──────────────────────────────────────┼─────────────────────────────┼─────────────────┤\n",
              "│ conv2d_3 (\u001b[38;5;33mConv2D\u001b[0m)                    │ (\u001b[38;5;45mNone\u001b[0m, \u001b[38;5;34m14\u001b[0m, \u001b[38;5;34m14\u001b[0m, \u001b[38;5;34m16\u001b[0m)          │           \u001b[38;5;34m6,416\u001b[0m │\n",
              "├──────────────────────────────────────┼─────────────────────────────┼─────────────────┤\n",
              "│ max_pooling2d_3 (\u001b[38;5;33mMaxPooling2D\u001b[0m)       │ (\u001b[38;5;45mNone\u001b[0m, \u001b[38;5;34m7\u001b[0m, \u001b[38;5;34m7\u001b[0m, \u001b[38;5;34m16\u001b[0m)            │               \u001b[38;5;34m0\u001b[0m │\n",
              "├──────────────────────────────────────┼─────────────────────────────┼─────────────────┤\n",
              "│ flatten_1 (\u001b[38;5;33mFlatten\u001b[0m)                  │ (\u001b[38;5;45mNone\u001b[0m, \u001b[38;5;34m784\u001b[0m)                 │               \u001b[38;5;34m0\u001b[0m │\n",
              "├──────────────────────────────────────┼─────────────────────────────┼─────────────────┤\n",
              "│ dense_2 (\u001b[38;5;33mDense\u001b[0m)                      │ (\u001b[38;5;45mNone\u001b[0m, \u001b[38;5;34m128\u001b[0m)                 │         \u001b[38;5;34m100,480\u001b[0m │\n",
              "├──────────────────────────────────────┼─────────────────────────────┼─────────────────┤\n",
              "│ dense_3 (\u001b[38;5;33mDense\u001b[0m)                      │ (\u001b[38;5;45mNone\u001b[0m, \u001b[38;5;34m10\u001b[0m)                  │           \u001b[38;5;34m1,290\u001b[0m │\n",
              "└──────────────────────────────────────┴─────────────────────────────┴─────────────────┘\n"
            ],
            "text/html": [
              "<pre style=\"white-space:pre;overflow-x:auto;line-height:normal;font-family:Menlo,'DejaVu Sans Mono',consolas,'Courier New',monospace\">┏━━━━━━━━━━━━━━━━━━━━━━━━━━━━━━━━━━━━━━┳━━━━━━━━━━━━━━━━━━━━━━━━━━━━━┳━━━━━━━━━━━━━━━━━┓\n",
              "┃<span style=\"font-weight: bold\"> Layer (type)                         </span>┃<span style=\"font-weight: bold\"> Output Shape                </span>┃<span style=\"font-weight: bold\">         Param # </span>┃\n",
              "┡━━━━━━━━━━━━━━━━━━━━━━━━━━━━━━━━━━━━━━╇━━━━━━━━━━━━━━━━━━━━━━━━━━━━━╇━━━━━━━━━━━━━━━━━┩\n",
              "│ conv2d_2 (<span style=\"color: #0087ff; text-decoration-color: #0087ff\">Conv2D</span>)                    │ (<span style=\"color: #00d7ff; text-decoration-color: #00d7ff\">None</span>, <span style=\"color: #00af00; text-decoration-color: #00af00\">28</span>, <span style=\"color: #00af00; text-decoration-color: #00af00\">28</span>, <span style=\"color: #00af00; text-decoration-color: #00af00\">16</span>)          │             <span style=\"color: #00af00; text-decoration-color: #00af00\">416</span> │\n",
              "├──────────────────────────────────────┼─────────────────────────────┼─────────────────┤\n",
              "│ max_pooling2d_2 (<span style=\"color: #0087ff; text-decoration-color: #0087ff\">MaxPooling2D</span>)       │ (<span style=\"color: #00d7ff; text-decoration-color: #00d7ff\">None</span>, <span style=\"color: #00af00; text-decoration-color: #00af00\">14</span>, <span style=\"color: #00af00; text-decoration-color: #00af00\">14</span>, <span style=\"color: #00af00; text-decoration-color: #00af00\">16</span>)          │               <span style=\"color: #00af00; text-decoration-color: #00af00\">0</span> │\n",
              "├──────────────────────────────────────┼─────────────────────────────┼─────────────────┤\n",
              "│ conv2d_3 (<span style=\"color: #0087ff; text-decoration-color: #0087ff\">Conv2D</span>)                    │ (<span style=\"color: #00d7ff; text-decoration-color: #00d7ff\">None</span>, <span style=\"color: #00af00; text-decoration-color: #00af00\">14</span>, <span style=\"color: #00af00; text-decoration-color: #00af00\">14</span>, <span style=\"color: #00af00; text-decoration-color: #00af00\">16</span>)          │           <span style=\"color: #00af00; text-decoration-color: #00af00\">6,416</span> │\n",
              "├──────────────────────────────────────┼─────────────────────────────┼─────────────────┤\n",
              "│ max_pooling2d_3 (<span style=\"color: #0087ff; text-decoration-color: #0087ff\">MaxPooling2D</span>)       │ (<span style=\"color: #00d7ff; text-decoration-color: #00d7ff\">None</span>, <span style=\"color: #00af00; text-decoration-color: #00af00\">7</span>, <span style=\"color: #00af00; text-decoration-color: #00af00\">7</span>, <span style=\"color: #00af00; text-decoration-color: #00af00\">16</span>)            │               <span style=\"color: #00af00; text-decoration-color: #00af00\">0</span> │\n",
              "├──────────────────────────────────────┼─────────────────────────────┼─────────────────┤\n",
              "│ flatten_1 (<span style=\"color: #0087ff; text-decoration-color: #0087ff\">Flatten</span>)                  │ (<span style=\"color: #00d7ff; text-decoration-color: #00d7ff\">None</span>, <span style=\"color: #00af00; text-decoration-color: #00af00\">784</span>)                 │               <span style=\"color: #00af00; text-decoration-color: #00af00\">0</span> │\n",
              "├──────────────────────────────────────┼─────────────────────────────┼─────────────────┤\n",
              "│ dense_2 (<span style=\"color: #0087ff; text-decoration-color: #0087ff\">Dense</span>)                      │ (<span style=\"color: #00d7ff; text-decoration-color: #00d7ff\">None</span>, <span style=\"color: #00af00; text-decoration-color: #00af00\">128</span>)                 │         <span style=\"color: #00af00; text-decoration-color: #00af00\">100,480</span> │\n",
              "├──────────────────────────────────────┼─────────────────────────────┼─────────────────┤\n",
              "│ dense_3 (<span style=\"color: #0087ff; text-decoration-color: #0087ff\">Dense</span>)                      │ (<span style=\"color: #00d7ff; text-decoration-color: #00d7ff\">None</span>, <span style=\"color: #00af00; text-decoration-color: #00af00\">10</span>)                  │           <span style=\"color: #00af00; text-decoration-color: #00af00\">1,290</span> │\n",
              "└──────────────────────────────────────┴─────────────────────────────┴─────────────────┘\n",
              "</pre>\n"
            ]
          },
          "metadata": {}
        },
        {
          "output_type": "display_data",
          "data": {
            "text/plain": [
              "\u001b[1m Total params: \u001b[0m\u001b[38;5;34m108,602\u001b[0m (424.23 KB)\n"
            ],
            "text/html": [
              "<pre style=\"white-space:pre;overflow-x:auto;line-height:normal;font-family:Menlo,'DejaVu Sans Mono',consolas,'Courier New',monospace\"><span style=\"font-weight: bold\"> Total params: </span><span style=\"color: #00af00; text-decoration-color: #00af00\">108,602</span> (424.23 KB)\n",
              "</pre>\n"
            ]
          },
          "metadata": {}
        },
        {
          "output_type": "display_data",
          "data": {
            "text/plain": [
              "\u001b[1m Trainable params: \u001b[0m\u001b[38;5;34m108,602\u001b[0m (424.23 KB)\n"
            ],
            "text/html": [
              "<pre style=\"white-space:pre;overflow-x:auto;line-height:normal;font-family:Menlo,'DejaVu Sans Mono',consolas,'Courier New',monospace\"><span style=\"font-weight: bold\"> Trainable params: </span><span style=\"color: #00af00; text-decoration-color: #00af00\">108,602</span> (424.23 KB)\n",
              "</pre>\n"
            ]
          },
          "metadata": {}
        },
        {
          "output_type": "display_data",
          "data": {
            "text/plain": [
              "\u001b[1m Non-trainable params: \u001b[0m\u001b[38;5;34m0\u001b[0m (0.00 B)\n"
            ],
            "text/html": [
              "<pre style=\"white-space:pre;overflow-x:auto;line-height:normal;font-family:Menlo,'DejaVu Sans Mono',consolas,'Courier New',monospace\"><span style=\"font-weight: bold\"> Non-trainable params: </span><span style=\"color: #00af00; text-decoration-color: #00af00\">0</span> (0.00 B)\n",
              "</pre>\n"
            ]
          },
          "metadata": {}
        }
      ]
    },
    {
      "cell_type": "code",
      "source": [
        "(x_train_img, y_train_label), (x_test_img, y_test_label) = mnist.load_data()"
      ],
      "metadata": {
        "id": "k7PsXu-6GV3Y"
      },
      "execution_count": 54,
      "outputs": []
    },
    {
      "cell_type": "code",
      "source": [
        "y_train_label[0]"
      ],
      "metadata": {
        "colab": {
          "base_uri": "https://localhost:8080/"
        },
        "id": "4hIZV37KIDBJ",
        "outputId": "ace67903-c9da-411b-c172-3e7ed6e017f6"
      },
      "execution_count": 55,
      "outputs": [
        {
          "output_type": "execute_result",
          "data": {
            "text/plain": [
              "np.uint8(5)"
            ]
          },
          "metadata": {},
          "execution_count": 55
        }
      ]
    },
    {
      "cell_type": "code",
      "source": [
        "y_train = to_categorical(y_train_label)\n",
        "y_test = to_categorical(y_test_label)"
      ],
      "metadata": {
        "id": "ptL5jbYJHcHa"
      },
      "execution_count": 56,
      "outputs": []
    },
    {
      "cell_type": "code",
      "source": [
        "y_test[0]"
      ],
      "metadata": {
        "colab": {
          "base_uri": "https://localhost:8080/"
        },
        "id": "MbyBbZKIH7K0",
        "outputId": "aff85bed-2060-442b-e6f8-1e219e2eeebd"
      },
      "execution_count": 57,
      "outputs": [
        {
          "output_type": "execute_result",
          "data": {
            "text/plain": [
              "array([0., 0., 0., 0., 0., 0., 0., 1., 0., 0.])"
            ]
          },
          "metadata": {},
          "execution_count": 57
        }
      ]
    },
    {
      "cell_type": "code",
      "source": [
        "print(\"X_train:\", x_train_img.shape)\n",
        "X_train = x_train_img.reshape(-1, 28, 28, 1).astype('float32')\n",
        "print(\"X_train after reshape:\", X_train.shape)\n",
        "print(\"--------------------------------------------------------\")\n",
        "print(\"X_test:\", x_test_img.shape)\n",
        "X_test = x_test_img.reshape(-1, 28, 28, 1).astype('float32')\n",
        "print(\"X_test after reshape:\", X_test.shape)"
      ],
      "metadata": {
        "colab": {
          "base_uri": "https://localhost:8080/"
        },
        "id": "_uu0GiTFH-NS",
        "outputId": "b2012e05-73fa-45b5-d5c8-21eb64431bac"
      },
      "execution_count": 58,
      "outputs": [
        {
          "output_type": "stream",
          "name": "stdout",
          "text": [
            "X_train: (60000, 28, 28)\n",
            "X_train after reshape: (60000, 28, 28, 1)\n",
            "--------------------------------------------------------\n",
            "X_test: (10000, 28, 28)\n",
            "X_test after reshape: (10000, 28, 28, 1)\n"
          ]
        }
      ]
    },
    {
      "cell_type": "code",
      "source": [
        "#Define model correct method\n",
        "cnn_model.compile(loss='categorical_crossentropy', optimizer='adam', metrics=['accuracy'])\n",
        "#Train model\n",
        "cnn_model.fit(X_train, y_train, validation_split=0.2, epochs=5, batch_size=128,)"
      ],
      "metadata": {
        "colab": {
          "base_uri": "https://localhost:8080/"
        },
        "id": "vBECcndRIq8k",
        "outputId": "8f7fdda4-a0bb-411f-b519-5ce6a69df5a8"
      },
      "execution_count": 59,
      "outputs": [
        {
          "output_type": "stream",
          "name": "stdout",
          "text": [
            "Epoch 1/5\n",
            "\u001b[1m375/375\u001b[0m \u001b[32m━━━━━━━━━━━━━━━━━━━━\u001b[0m\u001b[37m\u001b[0m \u001b[1m5s\u001b[0m 8ms/step - accuracy: 0.7297 - loss: 4.9971 - val_accuracy: 0.9640 - val_loss: 0.1234\n",
            "Epoch 2/5\n",
            "\u001b[1m375/375\u001b[0m \u001b[32m━━━━━━━━━━━━━━━━━━━━\u001b[0m\u001b[37m\u001b[0m \u001b[1m3s\u001b[0m 5ms/step - accuracy: 0.9695 - loss: 0.0977 - val_accuracy: 0.9721 - val_loss: 0.0925\n",
            "Epoch 3/5\n",
            "\u001b[1m375/375\u001b[0m \u001b[32m━━━━━━━━━━━━━━━━━━━━\u001b[0m\u001b[37m\u001b[0m \u001b[1m2s\u001b[0m 4ms/step - accuracy: 0.9809 - loss: 0.0608 - val_accuracy: 0.9774 - val_loss: 0.0781\n",
            "Epoch 4/5\n",
            "\u001b[1m375/375\u001b[0m \u001b[32m━━━━━━━━━━━━━━━━━━━━\u001b[0m\u001b[37m\u001b[0m \u001b[1m2s\u001b[0m 4ms/step - accuracy: 0.9872 - loss: 0.0418 - val_accuracy: 0.9751 - val_loss: 0.0841\n",
            "Epoch 5/5\n",
            "\u001b[1m375/375\u001b[0m \u001b[32m━━━━━━━━━━━━━━━━━━━━\u001b[0m\u001b[37m\u001b[0m \u001b[1m3s\u001b[0m 5ms/step - accuracy: 0.9904 - loss: 0.0307 - val_accuracy: 0.9739 - val_loss: 0.0958\n"
          ]
        },
        {
          "output_type": "execute_result",
          "data": {
            "text/plain": [
              "<keras.src.callbacks.history.History at 0x7ae1eb280350>"
            ]
          },
          "metadata": {},
          "execution_count": 59
        }
      ]
    },
    {
      "cell_type": "code",
      "source": [
        "score = cnn_model.evaluate(X_test, y_test)"
      ],
      "metadata": {
        "colab": {
          "base_uri": "https://localhost:8080/"
        },
        "id": "jrmdf3UTKfKH",
        "outputId": "8e866e2f-7c26-4976-927f-5f6699c22ba7"
      },
      "execution_count": 60,
      "outputs": [
        {
          "output_type": "stream",
          "name": "stdout",
          "text": [
            "\u001b[1m313/313\u001b[0m \u001b[32m━━━━━━━━━━━━━━━━━━━━\u001b[0m\u001b[37m\u001b[0m \u001b[1m1s\u001b[0m 3ms/step - accuracy: 0.9710 - loss: 0.0996\n"
          ]
        }
      ]
    },
    {
      "cell_type": "code",
      "source": [
        "from matplotlib import pyplot as plt\n",
        "def plot_images_labels_prediction(images, labels, predict, index, num):\n",
        "  fig = plt.gcf()\n",
        "  fig.set_size_inches(12,14)\n",
        "  if num>25: num=25\n",
        "  for i in range(0,num):\n",
        "    ax = plt.subplot(5,5,1+i)\n",
        "    ax.imshow(images[index],cmap='binary')\n",
        "    title = \"label=\" + str(labels[index])\n",
        "    title += \",predict=\" +str(predict[index])\n",
        "    title += \", index=\" +str(index)\n",
        "    ax.set_title(title,fontsize=10)\n",
        "    ax.set_xticks([]);ax.set_yticks([])\n",
        "    index+=1\n",
        "  plt.show()"
      ],
      "metadata": {
        "id": "mRExt6BNMTvJ"
      },
      "execution_count": 76,
      "outputs": []
    },
    {
      "cell_type": "code",
      "source": [
        "predict_ans = cnn_model.predict(X_test)\n",
        "predict_ans = np.argmax(predict_ans, axis=1)"
      ],
      "metadata": {
        "colab": {
          "base_uri": "https://localhost:8080/"
        },
        "id": "LR6tjS19UEbU",
        "outputId": "a86549ff-b386-423d-9eb9-dc55c70acba5"
      },
      "execution_count": 62,
      "outputs": [
        {
          "output_type": "stream",
          "name": "stdout",
          "text": [
            "\u001b[1m313/313\u001b[0m \u001b[32m━━━━━━━━━━━━━━━━━━━━\u001b[0m\u001b[37m\u001b[0m \u001b[1m1s\u001b[0m 3ms/step\n"
          ]
        }
      ]
    },
    {
      "cell_type": "code",
      "source": [
        "plot_images_labels_prediction(X_test, y_test_label, predict_ans, index=3500, num=5)"
      ],
      "metadata": {
        "colab": {
          "base_uri": "https://localhost:8080/",
          "height": 216
        },
        "id": "EMxWVKxPTpdY",
        "outputId": "1aea5f07-7ddc-4f2c-86ac-45139ac8467a"
      },
      "execution_count": 72,
      "outputs": [
        {
          "output_type": "display_data",
          "data": {
            "text/plain": [
              "<Figure size 1200x1400 with 5 Axes>"
            ],
            "image/png": "[encoded data removed]"
          },
          "metadata": {}
        }
      ]
    },
    {
      "cell_type": "code",
      "source": [
        "from ipywidgets import interact_manual\n",
        "def show_figure(idx):\n",
        "  plot_images_labels_prediction(x_test_img, y_test_label, predict_ans, index=idx, num=1)\n",
        "interact_manual(show_figure, idx=(0,9999))"
      ],
      "metadata": {
        "colab": {
          "base_uri": "https://localhost:8080/",
          "height": 367,
          "referenced_widgets": [
            "217288f64d45435c9446482d87abb929",
            "8253c9e1b7244a2588e6a857bba79c96",
            "a2e57da6bff94470ad174e74d924a51b",
            "851fc7e6827246938c97f18c4d289f19",
            "d8241f0313f94ed38457d4f0beb2b7df",
            "de8ce707c7f84905b6f9551b3649c3db",
            "de1ff088c9b64c76a97a2a588cd47895",
            "a36df1c5f40f4054b91cd5c420e53464",
            "c3fdbedda49a45dab55b7060c8b66753",
            "d0ae5993a4004713aa7c9c3c1d093db1"
          ]
        },
        "id": "YQDvcaTZUZ-F",
        "outputId": "c6c6a68a-58ee-4d43-821f-e7e623e683cf"
      },
      "execution_count": 77,
      "outputs": [
        {
          "output_type": "display_data",
          "data": {
            "text/plain": [
              "interactive(children=(IntSlider(value=4999, description='idx', max=9999), Button(description='Run Interact', s…"
            ],
            "application/vnd.jupyter.widget-view+json": {
              "version_major": 2,
              "version_minor": 0,
              "model_id": "217288f64d45435c9446482d87abb929"
            }
          },
          "metadata": {}
        },
        {
          "output_type": "execute_result",
          "data": {
            "text/plain": [
              "<function __main__.show_figure(idx)>"
            ],
            "text/html": [
              "<div style=\"max-width:800px; border: 1px solid var(--colab-border-color);\"><style>\n",
              "      pre.function-repr-contents {\n",
              "        overflow-x: auto;\n",
              "        padding: 8px 12px;\n",
              "        max-height: 500px;\n",
              "      }\n",
              "\n",
              "      pre.function-repr-contents.function-repr-contents-collapsed {\n",
              "        cursor: pointer;\n",
              "        max-height: 100px;\n",
              "      }\n",
              "    </style>\n",
              "    <pre style=\"white-space: initial; background:\n",
              "         var(--colab-secondary-surface-color); padding: 8px 12px;\n",
              "         border-bottom: 1px solid var(--colab-border-color);\"><b>show_figure</b><br/>def show_figure(idx)</pre><pre class=\"function-repr-contents function-repr-contents-collapsed\" style=\"\"><a class=\"filepath\" style=\"display:none\" href=\"#\">/content/&lt;ipython-input-77-31e231f9cf35&gt;</a>&lt;no docstring&gt;</pre></div>"
            ]
          },
          "metadata": {},
          "execution_count": 77
        }
      ]
    },
    {
      "cell_type": "code",
      "source": [
        "#HW\n",
        "#思考一下如何結合上面定義的plot_images_labels_prediction函式結合迴圈將test資料集內所有預測錯誤的結果\n",
        "#印出前五張錯誤內容以及統計錯誤數量有多少?\n",
        "#印出所有錯誤的位置\n",
        "\n",
        "error_count = 0\n",
        "error_indexes = []\n",
        "\n",
        "for i in range(len(X_test)):\n",
        "  if predict_ans[i] != y_test_label[i]:\n",
        "    error_count += 1\n",
        "    error_indexes.append(i)\n",
        "\n",
        "print(\"Total number of errors:\", error_count)\n",
        "\n",
        "if error_count > 0:\n",
        "  print(\"Error indexes:\", error_indexes)\n",
        "  for i in range(5):\n",
        "      plot_images_labels_prediction(X_test, y_test_label, predict_ans, index=error_indexes[i], num=1)"
      ],
      "metadata": {
        "colab": {
          "base_uri": "https://localhost:8080/",
          "height": 1000
        },
        "id": "Yu1j1oDRaL9B",
        "outputId": "59f79ac7-1ac2-4cc2-8586-c63726c01164"
      },
      "execution_count": 79,
      "outputs": [
        {
          "output_type": "stream",
          "name": "stdout",
          "text": [
            "Total number of errors: 247\n",
            "Error indexes: [48, 95, 115, 247, 259, 318, 320, 321, 340, 420, 447, 495, 543, 551, 582, 583, 591, 646, 689, 726, 740, 881, 924, 926, 947, 959, 969, 1002, 1014, 1026, 1039, 1112, 1121, 1182, 1242, 1247, 1248, 1260, 1279, 1319, 1364, 1378, 1440, 1447, 1453, 1466, 1522, 1530, 1553, 1566, 1686, 1721, 1790, 1808, 1816, 1823, 1871, 1877, 1878, 1899, 1901, 1924, 2070, 2098, 2107, 2118, 2130, 2135, 2148, 2182, 2225, 2272, 2280, 2293, 2371, 2380, 2387, 2408, 2414, 2447, 2462, 2480, 2597, 2654, 2758, 2771, 2780, 2836, 2896, 2938, 2946, 2959, 2970, 2990, 3060, 3100, 3117, 3172, 3250, 3288, 3289, 3319, 3330, 3336, 3375, 3384, 3422, 3451, 3457, 3490, 3503, 3520, 3533, 3558, 3559, 3597, 3615, 3626, 3629, 3662, 3727, 3756, 3780, 3808, 3818, 3906, 3941, 4001, 4044, 4075, 4078, 4100, 4102, 4156, 4176, 4199, 4224, 4238, 4265, 4269, 4271, 4289, 4300, 4377, 4380, 4455, 4486, 4497, 4513, 4536, 4548, 4578, 4639, 4671, 4724, 4731, 4740, 4743, 4783, 4807, 4808, 4823, 4860, 4879, 4966, 4978, 5159, 5165, 5201, 5288, 5409, 5559, 5569, 5600, 5611, 5620, 5634, 5649, 5709, 5841, 5842, 5936, 5955, 5960, 5973, 5981, 5997, 6042, 6081, 6091, 6153, 6166, 6347, 6426, 6523, 6555, 6597, 6603, 6625, 6641, 6651, 6721, 6740, 6755, 6780, 6894, 7094, 7121, 7212, 7233, 7265, 7434, 7492, 7545, 7552, 7569, 7749, 7823, 7971, 8061, 8065, 8094, 8107, 8246, 8325, 8326, 8406, 8408, 8520, 8527, 8615, 9280, 9385, 9450, 9664, 9700, 9729, 9749, 9762, 9768, 9770, 9779, 9792, 9839, 9879, 9904, 9982]\n"
          ]
        },
        {
          "output_type": "display_data",
          "data": {
            "text/plain": [
              "<Figure size 1200x1400 with 1 Axes>"
            ],
            "image/png": "[encoded data removed]"
          },
          "metadata": {}
        },
        {
          "output_type": "display_data",
          "data": {
            "text/plain": [
              "<Figure size 1200x1400 with 1 Axes>"
            ],
            "image/png": "[encoded data removed]"
          },
          "metadata": {}
        },
        {
          "output_type": "display_data",
          "data": {
            "text/plain": [
              "<Figure size 1200x1400 with 1 Axes>"
            ],
            "image/png": "[encoded data removed]"
          },
          "metadata": {}
        },
        {
          "output_type": "display_data",
          "data": {
            "text/plain": [
              "<Figure size 1200x1400 with 1 Axes>"
            ],
            "image/png": "[encoded data removed]"
          },
          "metadata": {}
        },
        {
          "output_type": "display_data",
          "data": {
            "text/plain": [
              "<Figure size 1200x1400 with 1 Axes>"
            ],
            "image/png": "[encoded data removed]"
          },
          "metadata": {}
        }
      ]
    },
    {
      "cell_type": "code",
      "source": [],
      "metadata": {
        "id": "1IGDY1R1aUqL"
      },
      "execution_count": 65,
      "outputs": []
    }
  ]
}